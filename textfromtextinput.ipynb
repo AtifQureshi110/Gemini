{
  "nbformat": 4,
  "nbformat_minor": 0,
  "metadata": {
    "colab": {
      "provenance": [],
      "authorship_tag": "ABX9TyNiQDBNsMKJ4qXX5ocSiFh4",
      "include_colab_link": true
    },
    "kernelspec": {
      "name": "python3",
      "display_name": "Python 3"
    },
    "language_info": {
      "name": "python"
    }
  },
  "cells": [
    {
      "cell_type": "markdown",
      "metadata": {
        "id": "view-in-github",
        "colab_type": "text"
      },
      "source": [
        "<a href=\"https://colab.research.google.com/github/AtifQureshi110/Gemini/blob/main/textfromtextinput.ipynb\" target=\"_parent\"><img src=\"https://colab.research.google.com/assets/colab-badge.svg\" alt=\"Open In Colab\"/></a>"
      ]
    },
    {
      "cell_type": "markdown",
      "source": [
        "This project essentially involves using Gemini to generate text from textual input. To complete this, I imported the necessary libraries and utilized the GOOGLE_API_KEY. I employed a model called 'gemini-pro' and, with the help of 'to_markdown,' generated text based on the given input text. This model has four different categories for safety reasons. If the input matches any one of them, it will result in an error."
      ],
      "metadata": {
        "id": "pIPa3ulw-uHQ"
      }
    },
    {
      "cell_type": "code",
      "source": [
        "# The Python SDK for the Gemini API, is contained in the google-generativeai package. Install the dependency using pip:\n",
        "!pip install -q -U google-generativeai"
      ],
      "metadata": {
        "id": "IbzyPOpvU27Q"
      },
      "execution_count": null,
      "outputs": []
    },
    {
      "cell_type": "markdown",
      "metadata": {
        "id": "KCFF5VSTbcAR"
      },
      "source": [
        "### Import packages"
      ]
    },
    {
      "cell_type": "markdown",
      "metadata": {
        "id": "vRC2HngneEeQ"
      },
      "source": [
        "Import the necessary packages."
      ]
    },
    {
      "cell_type": "code",
      "execution_count": null,
      "metadata": {
        "id": "TS9l5igubpHO"
      },
      "outputs": [],
      "source": [
        "import pathlib\n",
        "import textwrap\n",
        "\n",
        "import google.generativeai as genai\n",
        "\n",
        "# from IPython.display import display\n",
        "from IPython.display import Markdown\n",
        "\n",
        "\n",
        "def to_markdown(text):\n",
        "  text = text.replace('•', '  *')\n",
        "  return Markdown(textwrap.indent(text, '> ', predicate=lambda _: True))"
      ]
    },
    {
      "cell_type": "code",
      "execution_count": null,
      "metadata": {
        "id": "d10c38a5c91f"
      },
      "outputs": [],
      "source": [
        "# Used to securely store your API key\n",
        "from google.colab import userdata"
      ]
    },
    {
      "cell_type": "code",
      "source": [
        "from google.colab import userdata\n",
        "GOOGLE_API_KEY = userdata.get('gemini')\n",
        "genai.configure(api_key=GOOGLE_API_KEY)"
      ],
      "metadata": {
        "id": "B1WYLHuqVm_o"
      },
      "execution_count": null,
      "outputs": []
    },
    {
      "cell_type": "markdown",
      "metadata": {
        "id": "8ssbTMNVSMd-"
      },
      "source": [
        "### List models"
      ]
    },
    {
      "cell_type": "code",
      "execution_count": null,
      "metadata": {
        "id": "QvvWFy08e5c5",
        "colab": {
          "base_uri": "https://localhost:8080/",
          "height": 121
        },
        "outputId": "de6c7cd6-3102-4449-a81d-812c15319f48"
      },
      "outputs": [
        {
          "output_type": "stream",
          "name": "stdout",
          "text": [
            "models/gemini-1.0-pro\n",
            "models/gemini-1.0-pro-001\n",
            "models/gemini-1.0-pro-latest\n",
            "models/gemini-1.0-pro-vision-latest\n",
            "models/gemini-pro\n",
            "models/gemini-pro-vision\n"
          ]
        }
      ],
      "source": [
        "\"\"\"Now you're ready to call the Gemini API. Use `list_models` to see the available Gemini models:\n",
        "* `gemini-pro`: optimized for text-only prompts.\n",
        "* `gemini-pro-vision`: optimized for text-and-images prompts.\"\"\"\n",
        "for m in genai.list_models():\n",
        "  if 'generateContent' in m.supported_generation_methods:\n",
        "    print(m.name)"
      ]
    },
    {
      "cell_type": "markdown",
      "metadata": {
        "id": "FTl5NjtrhA0J"
      },
      "source": [
        "Note: For detailed information about the available models, including their capabilities and rate limits, see [Gemini models](https://ai.google.dev/models/gemini). There are options for requesting [rate limit increases](https://ai.google.dev/docs/increase_quota). The rate limit for Gemini-Pro models is 60 requests per minute (RPM).\n",
        "\n",
        "The `genai` package also supports the PaLM  family of models, but only the Gemini models support the generic, multimodal capabilities of the `generateContent` method."
      ]
    },
    {
      "cell_type": "markdown",
      "source": [
        "###Generate text from text inputs"
      ],
      "metadata": {
        "id": "yT2pPjYXXSFr"
      }
    },
    {
      "cell_type": "code",
      "source": [
        "model = genai.GenerativeModel('gemini-pro')"
      ],
      "metadata": {
        "id": "gAO4MbjCXTLN"
      },
      "execution_count": null,
      "outputs": []
    },
    {
      "cell_type": "code",
      "source": [
        "%%time\n",
        "response = model.generate_content(\"What is the meaning of life?\")"
      ],
      "metadata": {
        "colab": {
          "base_uri": "https://localhost:8080/",
          "height": 52
        },
        "id": "mXXFRBHNXZVW",
        "outputId": "dbff360e-26e3-4d8d-f156-1c8167ca87ab"
      },
      "execution_count": null,
      "outputs": [
        {
          "output_type": "stream",
          "name": "stdout",
          "text": [
            "CPU times: user 135 ms, sys: 25 ms, total: 160 ms\n",
            "Wall time: 10.9 s\n"
          ]
        }
      ]
    },
    {
      "cell_type": "code",
      "source": [
        "# In simple cases, the response.text accessor is all you need. To display formatted Markdown text, use the to_markdown function:\n",
        "to_markdown(response.text)"
      ],
      "metadata": {
        "colab": {
          "base_uri": "https://localhost:8080/",
          "height": 574
        },
        "id": "MNLpy4pmXZ31",
        "outputId": "4530616e-bf09-4959-9f63-1edcde561764"
      },
      "execution_count": null,
      "outputs": [
        {
          "output_type": "execute_result",
          "data": {
            "text/plain": [
              "<IPython.core.display.Markdown object>"
            ],
            "text/markdown": "> **Philosophical Perspectives:**\n> \n> * **Existentialism:** Meaning arises from the subjective experiences and choices individuals make in the face of an uncaring universe.\n> * **Nihilism:** Life is inherently meaningless and without purpose.\n> * **Stoicism:** Meaning comes from living in accordance with nature and enduring adversity with virtue.\n> * **Utilitarianism:** Meaning lies in maximizing happiness and reducing suffering for the greatest number of people.\n> * **Absolutism:** Meaning is determined by an external source, such as God or a moral code.\n> \n> **Religious and Spiritual Perspectives:**\n> \n> * **Christianity:** Meaning is found in following God's will and striving for salvation.\n> * **Buddhism:** Meaning involves overcoming suffering and attaining enlightenment through the Eightfold Path.\n> * **Hinduism:** Meaning is connected to the cyclical nature of life and the goal of achieving moksha (liberation).\n> * **Islam:** Meaning is centered around submission to Allah and fulfilling one's religious obligations.\n> \n> **Scientific and Evolutionary Perspectives:**\n> \n> * **Evolutionary biology:** Meaning may be rooted in the biological imperative to survive and reproduce.\n> * **Neuroscience:** Subjective experiences of meaning may be linked to specific neural pathways.\n> * **Biocentrism:** Meaning encompasses the interconnectedness of all living organisms and ecosystems.\n> \n> **Individual Perspectives:**\n> \n> * **Personal fulfillment:** Meaning can be found in pursuing passions, achieving goals, and contributing to society.\n> * **Relationships:** Meaning can stem from connections with loved ones, community involvement, and acts of kindness.\n> * **Experience:** Meaning can be found in the experiences themselves, such as exploring nature, learning new things, or facing challenges.\n> * **Growth:** Meaning can come from personal development, overcoming obstacles, and striving for improvement.\n> \n> **Other Perspectives:**\n> \n> * **Cosmic indifference:** Life may have no inherent meaning, but individuals can create their own.\n> * **Playful experimentation:** Meaning can be found in exploring different possibilities and engaging in novel experiences.\n> * **Paradox:** Meaning may be a paradox that cannot be fully comprehended but can still guide our actions.\n> \n> **Ultimately, the meaning of life is a deeply personal question that can vary widely depending on individual beliefs, values, and experiences.**"
          },
          "metadata": {},
          "execution_count": 10
        }
      ]
    },
    {
      "cell_type": "code",
      "source": [
        "# If the API failed to return a result, use GenerateContentRespose.prompt_feedback to see if it was blocked due to safety concerns regarding the prompt.\n",
        "response.prompt_feedback"
      ],
      "metadata": {
        "colab": {
          "base_uri": "https://localhost:8080/"
        },
        "id": "OimcWKDQXnZJ",
        "outputId": "dafdf63a-7a09-4ae1-aa7f-4bbca28b3a24"
      },
      "execution_count": null,
      "outputs": [
        {
          "output_type": "execute_result",
          "data": {
            "text/plain": [
              "safety_ratings {\n",
              "  category: HARM_CATEGORY_SEXUALLY_EXPLICIT\n",
              "  probability: NEGLIGIBLE\n",
              "}\n",
              "safety_ratings {\n",
              "  category: HARM_CATEGORY_HATE_SPEECH\n",
              "  probability: NEGLIGIBLE\n",
              "}\n",
              "safety_ratings {\n",
              "  category: HARM_CATEGORY_HARASSMENT\n",
              "  probability: NEGLIGIBLE\n",
              "}\n",
              "safety_ratings {\n",
              "  category: HARM_CATEGORY_DANGEROUS_CONTENT\n",
              "  probability: NEGLIGIBLE\n",
              "}"
            ]
          },
          "metadata": {},
          "execution_count": 11
        }
      ]
    },
    {
      "cell_type": "code",
      "source": [
        "\"\"\"Gemini can generate multiple possible responses for a single prompt. These possible responses are called candidates,\n",
        "and you can review them to select the most suitable one as the response.\n",
        "\n",
        "View the response candidates with GenerateContentResponse.candidates:\"\"\"\n",
        "response.candidates"
      ],
      "metadata": {
        "colab": {
          "base_uri": "https://localhost:8080/"
        },
        "id": "imueEZe9YwQs",
        "outputId": "68e7eb89-ef1b-4b71-dc3d-3bd1aa15539b"
      },
      "execution_count": null,
      "outputs": [
        {
          "output_type": "execute_result",
          "data": {
            "text/plain": [
              "[content {\n",
              "  parts {\n",
              "    text: \"**Philosophical Perspectives:**\\n\\n* **Existentialism:** Meaning arises from the subjective experiences and choices individuals make in the face of an uncaring universe.\\n* **Nihilism:** Life is inherently meaningless and without purpose.\\n* **Stoicism:** Meaning comes from living in accordance with nature and enduring adversity with virtue.\\n* **Utilitarianism:** Meaning lies in maximizing happiness and reducing suffering for the greatest number of people.\\n* **Absolutism:** Meaning is determined by an external source, such as God or a moral code.\\n\\n**Religious and Spiritual Perspectives:**\\n\\n* **Christianity:** Meaning is found in following God\\'s will and striving for salvation.\\n* **Buddhism:** Meaning involves overcoming suffering and attaining enlightenment through the Eightfold Path.\\n* **Hinduism:** Meaning is connected to the cyclical nature of life and the goal of achieving moksha (liberation).\\n* **Islam:** Meaning is centered around submission to Allah and fulfilling one\\'s religious obligations.\\n\\n**Scientific and Evolutionary Perspectives:**\\n\\n* **Evolutionary biology:** Meaning may be rooted in the biological imperative to survive and reproduce.\\n* **Neuroscience:** Subjective experiences of meaning may be linked to specific neural pathways.\\n* **Biocentrism:** Meaning encompasses the interconnectedness of all living organisms and ecosystems.\\n\\n**Individual Perspectives:**\\n\\n* **Personal fulfillment:** Meaning can be found in pursuing passions, achieving goals, and contributing to society.\\n* **Relationships:** Meaning can stem from connections with loved ones, community involvement, and acts of kindness.\\n* **Experience:** Meaning can be found in the experiences themselves, such as exploring nature, learning new things, or facing challenges.\\n* **Growth:** Meaning can come from personal development, overcoming obstacles, and striving for improvement.\\n\\n**Other Perspectives:**\\n\\n* **Cosmic indifference:** Life may have no inherent meaning, but individuals can create their own.\\n* **Playful experimentation:** Meaning can be found in exploring different possibilities and engaging in novel experiences.\\n* **Paradox:** Meaning may be a paradox that cannot be fully comprehended but can still guide our actions.\\n\\n**Ultimately, the meaning of life is a deeply personal question that can vary widely depending on individual beliefs, values, and experiences.**\"\n",
              "  }\n",
              "  role: \"model\"\n",
              "}\n",
              "finish_reason: STOP\n",
              "index: 0\n",
              "safety_ratings {\n",
              "  category: HARM_CATEGORY_SEXUALLY_EXPLICIT\n",
              "  probability: NEGLIGIBLE\n",
              "}\n",
              "safety_ratings {\n",
              "  category: HARM_CATEGORY_HATE_SPEECH\n",
              "  probability: NEGLIGIBLE\n",
              "}\n",
              "safety_ratings {\n",
              "  category: HARM_CATEGORY_HARASSMENT\n",
              "  probability: NEGLIGIBLE\n",
              "}\n",
              "safety_ratings {\n",
              "  category: HARM_CATEGORY_DANGEROUS_CONTENT\n",
              "  probability: NEGLIGIBLE\n",
              "}\n",
              "]"
            ]
          },
          "metadata": {},
          "execution_count": 12
        }
      ]
    },
    {
      "cell_type": "code",
      "source": [
        "\"\"\"By default, the model returns a response after completing the entire generation process. You can also stream the response as it is being generated,\n",
        "and the model will return chunks of the response as soon as they are generated.\n",
        "To stream responses, use GenerativeModel.generate_content(..., stream=True).\"\"\""
      ],
      "metadata": {
        "id": "DX0sNir2ZKns"
      },
      "execution_count": null,
      "outputs": []
    },
    {
      "cell_type": "code",
      "source": [
        "%%time\n",
        "response = model.generate_content(\"What is the meaning of life?\", stream=True) # the stream=True gives text as it generated in frrom of chunks."
      ],
      "metadata": {
        "colab": {
          "base_uri": "https://localhost:8080/",
          "height": 52
        },
        "id": "ceS4Kv4hanz0",
        "outputId": "77ae190b-add6-4404-a48e-c97b39901fde"
      },
      "execution_count": null,
      "outputs": [
        {
          "output_type": "stream",
          "name": "stdout",
          "text": [
            "CPU times: user 92.7 ms, sys: 15.7 ms, total: 108 ms\n",
            "Wall time: 7.22 s\n"
          ]
        }
      ]
    },
    {
      "cell_type": "code",
      "source": [
        "for chunk in response:\n",
        "  print(chunk.text)\n",
        "  print(\"_\"*80)"
      ],
      "metadata": {
        "colab": {
          "base_uri": "https://localhost:8080/"
        },
        "id": "GETJ9X5PaGjE",
        "outputId": "37ecb2cb-83af-4c9b-90b8-f5f03643dc9a"
      },
      "execution_count": null,
      "outputs": [
        {
          "output_type": "stream",
          "name": "stdout",
          "text": [
            "The meaning of life is a philosophical inquiry that has been pondered by humans for centuries\n",
            "________________________________________________________________________________\n",
            ". There is no one definitive answer, and different people may have different interpretations of what it means to them. Some common themes that emerge include:\n",
            "\n",
            "* **\n",
            "________________________________________________________________________________\n",
            "Purpose:** Many people believe that life has a purpose, whether it is to raise a family, make a difference in the world, or simply experience all that life has to offer.\n",
            "* **Happiness:** Another common belief is that the meaning of life is to be happy. This can be achieved in many ways, such\n",
            "________________________________________________________________________________\n",
            " as spending time with loved ones, pursuing hobbies, or giving back to the community.\n",
            "* **Growth:** Some people believe that the meaning of life is to grow and evolve as a person. This can involve learning new things, developing new skills, or overcoming challenges.\n",
            "* **Contribution:** Many people find meaning in life by contributing to something larger than themselves. This can involve volunteering, working for a cause you believe in, or simply being a good friend or family member.\n",
            "* **Connection:** Humans are social creatures, and many people find meaning in life through their connections with others. This can involve spending time with family and friends\n",
            "________________________________________________________________________________\n",
            ", building relationships, or helping others.\n",
            "\n",
            "Ultimately, the meaning of life is a personal question that can only be answered by each individual. It is a journey of self-discovery and exploration, and there is no right or wrong answer.\n",
            "________________________________________________________________________________\n"
          ]
        }
      ]
    },
    {
      "cell_type": "code",
      "source": [
        "# When streaming, some response attributes are not available until you've iterated through all the response chunks. This is demonstrated below:\n",
        "response = model.generate_content(\"how to insult someone?\", stream=True)"
      ],
      "metadata": {
        "id": "smDmMdUFbUUl"
      },
      "execution_count": null,
      "outputs": []
    },
    {
      "cell_type": "code",
      "source": [
        "# The prompt_feedback attribute works:\n",
        "# these are foir different category if the given prompt comes under these than response will not generate.\n",
        "response.prompt_feedback"
      ],
      "metadata": {
        "colab": {
          "base_uri": "https://localhost:8080/"
        },
        "id": "jTHbE8frbZWq",
        "outputId": "6e6d5022-e8d0-4a66-a81d-0799d6ecc472"
      },
      "execution_count": null,
      "outputs": [
        {
          "output_type": "execute_result",
          "data": {
            "text/plain": [
              "block_reason: SAFETY\n",
              "safety_ratings {\n",
              "  category: HARM_CATEGORY_SEXUALLY_EXPLICIT\n",
              "  probability: NEGLIGIBLE\n",
              "}\n",
              "safety_ratings {\n",
              "  category: HARM_CATEGORY_HATE_SPEECH\n",
              "  probability: NEGLIGIBLE\n",
              "}\n",
              "safety_ratings {\n",
              "  category: HARM_CATEGORY_HARASSMENT\n",
              "  probability: MEDIUM\n",
              "}\n",
              "safety_ratings {\n",
              "  category: HARM_CATEGORY_DANGEROUS_CONTENT\n",
              "  probability: NEGLIGIBLE\n",
              "}"
            ]
          },
          "metadata": {},
          "execution_count": 16
        }
      ]
    },
    {
      "cell_type": "code",
      "source": [
        "#But attributes like GenerateContentResponse.text do not:\n",
        "try:\n",
        "  response.text\n",
        "except Exception as e:\n",
        "  print(f'{type(e).__name__}: {e}')"
      ],
      "metadata": {
        "colab": {
          "base_uri": "https://localhost:8080/"
        },
        "id": "rRZ2IKIvbxNy",
        "outputId": "d750d018-dbca-4c3d-8d7b-16310651a42a"
      },
      "execution_count": null,
      "outputs": [
        {
          "output_type": "stream",
          "name": "stdout",
          "text": [
            "IncompleteIterationError: Please let the response complete iteration before accessing the final accumulated\n",
            "attributes (or call `response.resolve()`)\n"
          ]
        }
      ]
    }
  ]
}